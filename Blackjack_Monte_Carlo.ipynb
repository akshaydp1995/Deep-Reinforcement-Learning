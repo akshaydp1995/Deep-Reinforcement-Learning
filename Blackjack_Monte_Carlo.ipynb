{
  "nbformat": 4,
  "nbformat_minor": 0,
  "metadata": {
    "colab": {
      "name": "Monte_Carlo_Solution (2).ipynb",
      "version": "0.3.2",
      "provenance": [],
      "include_colab_link": true
    },
    "kernelspec": {
      "display_name": "Python 3",
      "language": "python",
      "name": "python3"
    }
  },
  "cells": [
    {
      "cell_type": "markdown",
      "metadata": {
        "id": "view-in-github",
        "colab_type": "text"
      },
      "source": [
        "<a href=\"https://colab.research.google.com/github/akshaydp1995/Deep-Reinforcement-Learning/blob/master/Blackjack_Monte_Carlo.ipynb\" target=\"_parent\"><img src=\"https://colab.research.google.com/assets/colab-badge.svg\" alt=\"Open In Colab\"/></a>"
      ]
    },
    {
      "metadata": {
        "id": "3qyb6ES0xmov",
        "colab_type": "text"
      },
      "cell_type": "markdown",
      "source": [
        "## Import Libraries"
      ]
    },
    {
      "metadata": {
        "id": "ZLtipjwtxmow",
        "colab_type": "code",
        "colab": {}
      },
      "cell_type": "code",
      "source": [
        "import gym\n",
        "import numpy as np\n",
        "import plot_utils\n",
        "from collections import defaultdict"
      ],
      "execution_count": 0,
      "outputs": []
    },
    {
      "metadata": {
        "id": "lnhiG4Zqxmoz",
        "colab_type": "text"
      },
      "cell_type": "markdown",
      "source": [
        "## Create the Blackjack Environment\n",
        "##### Print the State Space, Action Space, Reward Range, Discount Factor"
      ]
    },
    {
      "metadata": {
        "id": "58UPyaAYxmo0",
        "colab_type": "code",
        "colab": {},
        "outputId": "ceb17f9c-4758-4aa3-d103-2f96fe8a6424"
      },
      "cell_type": "code",
      "source": [
        "# Create an environment using OpenAI's Gym Toolkit\n",
        "\n",
        "env = gym.make('Blackjack-v0')   # Create an environment\n",
        "gamma = 0.9\n",
        "\n",
        "print(\"Observation Space  :\", env.observation_space)     # State Space\n",
        "print(\"Action Space       :\", env.action_space)          # Action Space\n",
        "print(\"Reward Range       :\", env.reward_range)          # Reward Range\n",
        "print(\"Discount Factor    :\", gamma)                     # Discount Factor"
      ],
      "execution_count": 0,
      "outputs": [
        {
          "output_type": "stream",
          "text": [
            "Observation Space  : Tuple(Discrete(32), Discrete(11), Discrete(2))\n",
            "Action Space       : Discrete(2)\n",
            "Reward Range       : (-inf, inf)\n",
            "Discount Factor    : 0.9\n"
          ],
          "name": "stdout"
        }
      ]
    },
    {
      "metadata": {
        "id": "85fuIVvJxmo6",
        "colab_type": "text"
      },
      "cell_type": "markdown",
      "source": [
        "## Generate an episode - Equiprobable Random Policy\n",
        "##### Select an action with equal probability for any state"
      ]
    },
    {
      "metadata": {
        "id": "TxA_ryyrxmo7",
        "colab_type": "code",
        "colab": {},
        "outputId": "8b27909f-96c2-46dc-d64f-07927220b376"
      },
      "cell_type": "code",
      "source": [
        "## Episodic Task - Use Monte Carlo Method to create an episode\n",
        "\n",
        "def generate_episode_erp(): \n",
        "    episode = []\n",
        "    state = env.reset()\n",
        "    done = 0\n",
        "    while True:\n",
        "        probs = [0.5, 0.5]                                   # Policy\n",
        "        action = np.random.choice([0, 1], p = probs)\n",
        "        next_state, reward, done, info = env.step(action)    # Take an action\n",
        "        episode.append((state, action, reward))\n",
        "        state = next_state\n",
        "        if done == 1: \n",
        "            break\n",
        "    return episode\n",
        "\n",
        "generate_episode_erp()"
      ],
      "execution_count": 0,
      "outputs": [
        {
          "output_type": "execute_result",
          "data": {
            "text/plain": [
              "[((12, 5, False), 1, -1)]"
            ]
          },
          "metadata": {
            "tags": []
          },
          "execution_count": 55
        }
      ]
    },
    {
      "metadata": {
        "id": "Q0K64patxmpA",
        "colab_type": "text"
      },
      "cell_type": "markdown",
      "source": [
        "## Generate Episode - Policy \n",
        "##### Policy - Take an action \"Stick\" with 80% probability when sum of cards > 18 - Denote this as 'Policy Number 1'"
      ]
    },
    {
      "metadata": {
        "id": "MyfmDb4FxmpC",
        "colab_type": "code",
        "colab": {},
        "outputId": "a88051ac-94ff-450b-8216-a7b575c04394"
      },
      "cell_type": "code",
      "source": [
        "## Episodic Task - Use Monte Carlo Method to create an episode\n",
        "\n",
        "def generate_episode_18(): \n",
        "    episode = []\n",
        "    state = env.reset()\n",
        "    done = 0\n",
        "    while True:\n",
        "        probs = [0.8, 0.2] if state[0] > 18 else [0.2, 0.8]  # Policy\n",
        "        action = np.random.choice([0, 1], p = probs)\n",
        "        next_state, reward, done, info = env.step(action)    # Take an action\n",
        "        episode.append((state, action, reward))\n",
        "        state = next_state\n",
        "        if done == 1: \n",
        "            break\n",
        "    return episode\n",
        "\n",
        "generate_episode_18()"
      ],
      "execution_count": 0,
      "outputs": [
        {
          "output_type": "execute_result",
          "data": {
            "text/plain": [
              "[((15, 6, False), 1, -1)]"
            ]
          },
          "metadata": {
            "tags": []
          },
          "execution_count": 56
        }
      ]
    },
    {
      "metadata": {
        "id": "hAbDhaP6xmpF",
        "colab_type": "text"
      },
      "cell_type": "markdown",
      "source": [
        "## Fill the Q-table\n",
        "##### First-visit prediction with equiprobable random policy"
      ]
    },
    {
      "metadata": {
        "id": "eSJFXYuMxmpG",
        "colab_type": "code",
        "colab": {},
        "outputId": "a5aff3d5-79a4-47ab-8ac1-adf07dae571b"
      },
      "cell_type": "code",
      "source": [
        "# Function to evaluate policy using first-visit MC\n",
        "\n",
        "def policy_evaluation_fv_erp(number_episodes = 1): \n",
        "    Q = defaultdict(lambda: np.zeros(env.action_space.n))\n",
        "    summ = defaultdict(lambda: np.zeros(env.action_space.n))\n",
        "    N = defaultdict(lambda: np.zeros(env.action_space.n))\n",
        "    for _ in range(number_episodes): \n",
        "        states, actions, rewards = zip(*generate_episode_erp())\n",
        "        states_all = []\n",
        "        for index, state in enumerate(states): \n",
        "            if state not in states_all: \n",
        "                summ[state][actions[index]] = sum([(gamma)**i for i in range(len(rewards))][::-1][::-1]*np.asarray(rewards))\n",
        "                N[state][actions[index]] += 1\n",
        "            Q[state][actions[index]] = summ[state][actions[index]] / N[state][actions[index]]\n",
        "            states_all.append(state)\n",
        "    return Q\n",
        "                \n",
        "policy_evaluation_fv_erp(10)"
      ],
      "execution_count": 0,
      "outputs": [
        {
          "output_type": "execute_result",
          "data": {
            "text/plain": [
              "defaultdict(<function __main__.policy_evaluation_fv_erp.<locals>.<lambda>()>,\n",
              "            {(21, 6, True): array([ 0.   ,  0.405]),\n",
              "             (20, 6, False): array([ 0.,  0.]),\n",
              "             (16, 10, False): array([ 1.,  0.]),\n",
              "             (11, 5, False): array([-1.,  0.]),\n",
              "             (9, 8, False): array([ 0. ,  0.9]),\n",
              "             (19, 8, False): array([ 0.9,  0. ]),\n",
              "             (18, 5, False): array([ 0., -1.]),\n",
              "             (13, 2, False): array([ 0.  , -0.81]),\n",
              "             (16, 2, False): array([ 0.  , -0.81]),\n",
              "             (17, 2, False): array([-0.81,  0.  ]),\n",
              "             (10, 7, False): array([ 0. , -0.9]),\n",
              "             (16, 7, False): array([ 0. , -0.9]),\n",
              "             (14, 6, False): array([ 0.  ,  0.81]),\n",
              "             (18, 6, False): array([ 0.81,  0.  ]),\n",
              "             (9, 5, False): array([ 1.,  0.]),\n",
              "             (13, 9, True): array([-1.,  0.])})"
            ]
          },
          "metadata": {
            "tags": []
          },
          "execution_count": 57
        }
      ]
    },
    {
      "metadata": {
        "id": "SlULJ2ewxmpK",
        "colab_type": "text"
      },
      "cell_type": "markdown",
      "source": [
        "##### Every-visit prediction with equiprobable random policy"
      ]
    },
    {
      "metadata": {
        "id": "B0c1L92nxmpL",
        "colab_type": "code",
        "colab": {},
        "outputId": "7d783a6b-80c3-4f2a-c8c8-65dacb7b4c42"
      },
      "cell_type": "code",
      "source": [
        "# Function to evaluate policy using every-visit MC\n",
        "\n",
        "def policy_evaluation_ev_erp(number_episodes = 1): \n",
        "    Q = defaultdict(lambda: np.zeros(env.action_space.n))\n",
        "    summ = defaultdict(lambda: np.zeros(env.action_space.n))\n",
        "    N = defaultdict(lambda: np.zeros(env.action_space.n))\n",
        "    for _ in range(number_episodes): \n",
        "        states, actions, rewards = zip(*generate_episode_erp())\n",
        "        for index, state in enumerate(states): \n",
        "            summ[state][actions[index]] = sum([(gamma)**i for i in range(len(rewards))][::-1][::-1]*np.asarray(rewards))\n",
        "            N[state][actions[index]] += 1\n",
        "            Q[state][actions[index]] = summ[state][actions[index]] / N[state][actions[index]]\n",
        "    return Q\n",
        "                \n",
        "policy_evaluation_ev_erp(10)"
      ],
      "execution_count": 0,
      "outputs": [
        {
          "output_type": "execute_result",
          "data": {
            "text/plain": [
              "defaultdict(<function __main__.policy_evaluation_ev_erp.<locals>.<lambda>()>,\n",
              "            {(16, 10, False): array([ 0., -1.]),\n",
              "             (20, 2, False): array([ 0., -1.]),\n",
              "             (13, 1, False): array([-1.,  0.]),\n",
              "             (14, 10, False): array([ 1.,  0.]),\n",
              "             (12, 10, False): array([ 1.,  0.]),\n",
              "             (17, 5, True): array([-1.,  0.]),\n",
              "             (10, 7, False): array([ 0. , -0.9]),\n",
              "             (12, 7, False): array([-0.9,  0. ]),\n",
              "             (10, 6, False): array([ 1.,  0.]),\n",
              "             (18, 10, False): array([ 1.,  0.]),\n",
              "             (10, 9, False): array([ 1.,  0.])})"
            ]
          },
          "metadata": {
            "tags": []
          },
          "execution_count": 58
        }
      ]
    },
    {
      "metadata": {
        "id": "vxzH5Rm6xmpO",
        "colab_type": "text"
      },
      "cell_type": "markdown",
      "source": [
        "##### First-visit prediction with 'Policy number 1'"
      ]
    },
    {
      "metadata": {
        "id": "mrFoittYxmpP",
        "colab_type": "code",
        "colab": {},
        "outputId": "1875e596-fd51-4af4-97d2-9e7d88897178"
      },
      "cell_type": "code",
      "source": [
        "# Function to evaluate policy using first-visit MC\n",
        "\n",
        "def policy_evaluation_fv_18(number_episodes = 1): \n",
        "    Q = defaultdict(lambda: np.zeros(env.action_space.n))\n",
        "    summ = defaultdict(lambda: np.zeros(env.action_space.n))\n",
        "    N = defaultdict(lambda: np.zeros(env.action_space.n))\n",
        "    for _ in range(number_episodes): \n",
        "        states, actions, rewards = zip(*generate_episode_erp())\n",
        "        states_all = []\n",
        "        for index, state in enumerate(states): \n",
        "            if state not in states_all: \n",
        "                summ[state][actions[index]] = sum([(gamma)**i for i in range(len(rewards))][::-1][::-1]*np.asarray(rewards))\n",
        "                N[state][actions[index]] += 1\n",
        "            Q[state][actions[index]] = summ[state][actions[index]] / N[state][actions[index]]\n",
        "            states_all.append(state)\n",
        "    return Q\n",
        "                \n",
        "policy_evaluation_fv_18(10)"
      ],
      "execution_count": 0,
      "outputs": [
        {
          "output_type": "execute_result",
          "data": {
            "text/plain": [
              "defaultdict(<function __main__.policy_evaluation_fv_18.<locals>.<lambda>()>,\n",
              "            {(11, 1, False): array([ 0.  , -0.81]),\n",
              "             (19, 1, False): array([ 0.  , -0.81]),\n",
              "             (20, 1, False): array([ 0.  , -0.81]),\n",
              "             (20, 10, False): array([ 1.,  0.]),\n",
              "             (14, 10, False): array([ 1.,  0.]),\n",
              "             (15, 8, False): array([ 0. , -0.9]),\n",
              "             (19, 8, False): array([ 0. , -0.9]),\n",
              "             (19, 6, False): array([ 0., -1.]),\n",
              "             (11, 10, False): array([ 0. ,  0.9]),\n",
              "             (17, 10, False): array([ 0.9,  0. ]),\n",
              "             (16, 1, True): array([ 1.,  0.]),\n",
              "             (5, 3, False): array([ 0. , -0.9]),\n",
              "             (15, 3, False): array([ 0. , -0.9]),\n",
              "             (4, 9, False): array([-1.,  0.]),\n",
              "             (15, 4, False): array([-1.,  0.])})"
            ]
          },
          "metadata": {
            "tags": []
          },
          "execution_count": 59
        }
      ]
    },
    {
      "metadata": {
        "id": "D_u-jy9kxmpT",
        "colab_type": "text"
      },
      "cell_type": "markdown",
      "source": [
        "##### Every-visit prediction with equiprobable random policy"
      ]
    },
    {
      "metadata": {
        "id": "o6PuULP5xmpT",
        "colab_type": "code",
        "colab": {},
        "outputId": "46c34305-e2e9-4427-8ee5-292cebfc81c0"
      },
      "cell_type": "code",
      "source": [
        "# Function to evaluate policy using every-visit MC\n",
        "\n",
        "def policy_evaluation_ev_18(number_episodes = 1): \n",
        "    Q = defaultdict(lambda: np.zeros(env.action_space.n))\n",
        "    summ = defaultdict(lambda: np.zeros(env.action_space.n))\n",
        "    N = defaultdict(lambda: np.zeros(env.action_space.n))\n",
        "    for _ in range(number_episodes): \n",
        "        states, actions, rewards = zip(*generate_episode_erp())\n",
        "        for index, state in enumerate(states): \n",
        "            summ[state][actions[index]] = sum([(gamma)**i for i in range(len(rewards))][::-1][::-1]*np.asarray(rewards))\n",
        "            N[state][actions[index]] += 1\n",
        "            Q[state][actions[index]] = summ[state][actions[index]] / N[state][actions[index]]\n",
        "    return Q\n",
        "                \n",
        "policy_evaluation_ev_18(10)"
      ],
      "execution_count": 0,
      "outputs": [
        {
          "output_type": "execute_result",
          "data": {
            "text/plain": [
              "defaultdict(<function __main__.policy_evaluation_ev_18.<locals>.<lambda>()>,\n",
              "            {(9, 10, False): array([-0.5,  0. ]),\n",
              "             (16, 5, True): array([ 1.,  0.]),\n",
              "             (15, 5, False): array([ 1.,  0.]),\n",
              "             (6, 3, False): array([-1.,  0.]),\n",
              "             (16, 3, False): array([ 0. , -0.9]),\n",
              "             (18, 3, False): array([ 0. , -0.9]),\n",
              "             (18, 5, False): array([ 0., -1.]),\n",
              "             (16, 1, True): array([-1.,  0.]),\n",
              "             (8, 10, False): array([ 1.,  0.]),\n",
              "             (19, 10, False): array([-1.,  0.])})"
            ]
          },
          "metadata": {
            "tags": []
          },
          "execution_count": 60
        }
      ]
    },
    {
      "metadata": {
        "id": "kUFQmGnTxmpb",
        "colab_type": "text"
      },
      "cell_type": "markdown",
      "source": [
        "## Monte Carlo Control Method\n",
        "##### Converging to optimal policy using the greedy policy - Starting with 'Policy number 1' with first-visit prediction method"
      ]
    },
    {
      "metadata": {
        "id": "TILfUrPRxmpd",
        "colab_type": "code",
        "colab": {}
      },
      "cell_type": "code",
      "source": [
        "def greedy(epochs = 100, episodes = 1200): \n",
        "    for _ in range(epochs): \n",
        "        Q = policy_evaluation_fv_18(episodes)\n",
        "        for key, value in Q.items(): \n",
        "            Q[key] = np.array([0, 1]) if np.argmax(value)==1 else np.array([1, 0]) \n",
        "    return Q"
      ],
      "execution_count": 0,
      "outputs": []
    },
    {
      "metadata": {
        "id": "zptBqyBzxmph",
        "colab_type": "code",
        "colab": {},
        "outputId": "7c7f4d06-5da6-453f-f6eb-8c30b7dcd4f1"
      },
      "cell_type": "code",
      "source": [
        "optimal_Q = greedy()\n",
        "policy = dict((k,np.argmax(v)) for k, v in optimal_Q.items())\n",
        "plot_utils.plot_policy(policy)"
      ],
      "execution_count": 0,
      "outputs": [
        {
          "output_type": "display_data",
          "data": {
            "image/png": "[encoded data removed]",
            "text/plain": [
              "<matplotlib.figure.Figure at 0x7f3f7203ecc0>"
            ]
          },
          "metadata": {
            "tags": [],
            "needs_background": "light"
          }
        }
      ]
    }
  ]
}