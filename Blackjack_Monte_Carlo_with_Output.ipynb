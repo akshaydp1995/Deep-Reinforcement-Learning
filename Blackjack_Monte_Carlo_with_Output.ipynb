{
  "nbformat": 4,
  "nbformat_minor": 0,
  "metadata": {
    "colab": {
      "name": "Blackjack - Monte Carlo with Output.ipynb",
      "version": "0.3.2",
      "provenance": [],
      "collapsed_sections": [],
      "include_colab_link": true
    },
    "kernelspec": {
      "name": "python3",
      "display_name": "Python 3"
    },
    "accelerator": "GPU"
  },
  "cells": [
    {
      "cell_type": "markdown",
      "metadata": {
        "id": "view-in-github",
        "colab_type": "text"
      },
      "source": [
        "<a href=\"https://colab.research.google.com/github/akshaydp1995/Deep-Reinforcement-Learning/blob/master/Blackjack_Monte_Carlo_with_Output.ipynb\" target=\"_parent\"><img src=\"https://colab.research.google.com/assets/colab-badge.svg\" alt=\"Open In Colab\"/></a>"
      ]
    },
    {
      "metadata": {
        "id": "3qyb6ES0xmov",
        "colab_type": "text"
      },
      "cell_type": "markdown",
      "source": [
        "## Import Libraries\n",
        "##### OpenAI's Gym toolkit has a lot of built-in environments"
      ]
    },
    {
      "metadata": {
        "id": "ZLtipjwtxmow",
        "colab_type": "code",
        "colab": {}
      },
      "cell_type": "code",
      "source": [
        "import gym\n",
        "import numpy as np\n",
        "from collections import defaultdict"
      ],
      "execution_count": 0,
      "outputs": []
    },
    {
      "metadata": {
        "id": "lnhiG4Zqxmoz",
        "colab_type": "text"
      },
      "cell_type": "markdown",
      "source": [
        "## Create the Blackjack Environment\n",
        "##### Print the State Space, Action Space, Reward Range, Discount Factor"
      ]
    },
    {
      "metadata": {
        "id": "58UPyaAYxmo0",
        "colab_type": "code",
        "outputId": "9e18ef1b-acff-4b87-f9fe-736bd36947e3",
        "colab": {
          "base_uri": "https://localhost:8080/",
          "height": 85
        }
      },
      "cell_type": "code",
      "source": [
        "# Create an environment using OpenAI's Gym Toolkit\n",
        "\n",
        "env = gym.make('Blackjack-v0')   # Create an environment\n",
        "gamma = 0.9\n",
        "\n",
        "print(\"Observation Space  :\", env.observation_space)     # State Space\n",
        "print(\"Action Space       :\", env.action_space)          # Action Space\n",
        "print(\"Reward Range       :\", env.reward_range)          # Reward Range\n",
        "print(\"Discount Factor    :\", gamma)                     # Discount Factor"
      ],
      "execution_count": 2,
      "outputs": [
        {
          "output_type": "stream",
          "text": [
            "Observation Space  : Tuple(Discrete(32), Discrete(11), Discrete(2))\n",
            "Action Space       : Discrete(2)\n",
            "Reward Range       : (-inf, inf)\n",
            "Discount Factor    : 0.9\n"
          ],
          "name": "stdout"
        }
      ]
    },
    {
      "metadata": {
        "id": "85fuIVvJxmo6",
        "colab_type": "text"
      },
      "cell_type": "markdown",
      "source": [
        "## Generate an episode - Equiprobable Random Policy\n",
        "##### Select an action with equal probability for any state \n",
        "##### Generating a single episode (state, action, reward)"
      ]
    },
    {
      "metadata": {
        "id": "TxA_ryyrxmo7",
        "colab_type": "code",
        "outputId": "28760b0d-f562-497e-dd1f-97413501674b",
        "colab": {
          "base_uri": "https://localhost:8080/",
          "height": 34
        }
      },
      "cell_type": "code",
      "source": [
        "## Episodic Task - Use Monte Carlo Method to create an episode\n",
        "\n",
        "def generate_episode_erp(): \n",
        "    episode = []\n",
        "    state = env.reset()\n",
        "    done = 0\n",
        "    while True:\n",
        "        probs = [0.5, 0.5]                                   # Policy\n",
        "        action = np.random.choice([0, 1], p = probs)\n",
        "        next_state, reward, done, info = env.step(action)    # Take an action\n",
        "        episode.append((state, action, reward))\n",
        "        state = next_state\n",
        "        if done == 1: \n",
        "            break\n",
        "    return episode\n",
        "\n",
        "generate_episode_erp()"
      ],
      "execution_count": 3,
      "outputs": [
        {
          "output_type": "execute_result",
          "data": {
            "text/plain": [
              "[((16, 9, False), 1, 0), ((21, 9, False), 0, 1.0)]"
            ]
          },
          "metadata": {
            "tags": []
          },
          "execution_count": 3
        }
      ]
    },
    {
      "metadata": {
        "id": "Q0K64patxmpA",
        "colab_type": "text"
      },
      "cell_type": "markdown",
      "source": [
        "## Generate an episode - 'Policy number 1' (80% when sum > 18)\n",
        "##### Policy - Take an action \"Stick\" with 80% probability when sum of cards > 18 \n",
        "##### Generating a single episode (state, action, reward)"
      ]
    },
    {
      "metadata": {
        "id": "MyfmDb4FxmpC",
        "colab_type": "code",
        "outputId": "58896662-adda-452f-f59d-61d17d96e991",
        "colab": {
          "base_uri": "https://localhost:8080/",
          "height": 34
        }
      },
      "cell_type": "code",
      "source": [
        "## Episodic Task - Use Monte Carlo Method to create an episode\n",
        "\n",
        "def generate_episode_18(): \n",
        "    episode = []\n",
        "    state = env.reset()\n",
        "    done = 0\n",
        "    while True:\n",
        "        probs = [0.8, 0.2] if state[0] > 18 else [0.2, 0.8]  # Policy\n",
        "        action = np.random.choice([0, 1], p = probs)\n",
        "        next_state, reward, done, info = env.step(action)    # Take an action\n",
        "        episode.append((state, action, reward))\n",
        "        state = next_state\n",
        "        if done == 1: \n",
        "            break\n",
        "    return episode\n",
        "\n",
        "generate_episode_18()"
      ],
      "execution_count": 4,
      "outputs": [
        {
          "output_type": "execute_result",
          "data": {
            "text/plain": [
              "[((11, 7, False), 1, 0), ((21, 7, False), 0, 1.0)]"
            ]
          },
          "metadata": {
            "tags": []
          },
          "execution_count": 4
        }
      ]
    },
    {
      "metadata": {
        "colab_type": "text",
        "id": "-amYvOtI0ABu"
      },
      "cell_type": "markdown",
      "source": [
        "## Generate an episode - for any policy Q (greedy policy)\n",
        "##### Input a policy Q \n",
        "##### Generating a single episode using the input policy Q "
      ]
    },
    {
      "metadata": {
        "id": "-gwusNZry4r3",
        "colab_type": "code",
        "outputId": "a6ceef20-7e03-4081-e206-a553e2473d63",
        "colab": {
          "base_uri": "https://localhost:8080/",
          "height": 34
        }
      },
      "cell_type": "code",
      "source": [
        "def generate_episode_fv_policy(Q): \n",
        "    episode = []\n",
        "    state = env.reset()\n",
        "    done = 0\n",
        "    while True:\n",
        "        prob = [0, 1] if np.argmax(Q[state])==1 else [1, 0]\n",
        "        action = np.random.choice([0, 1], p = prob)\n",
        "        next_state, reward, done, info = env.step(action)    # Take an action\n",
        "        episode.append((state, action, reward))\n",
        "        state = next_state\n",
        "        if done == 1: \n",
        "            break\n",
        "    return episode\n",
        "  \n",
        "Q = defaultdict(lambda: np.zeros(2))                         # Random policy to check if function works\n",
        "generate_episode_fv_policy(Q) "
      ],
      "execution_count": 5,
      "outputs": [
        {
          "output_type": "execute_result",
          "data": {
            "text/plain": [
              "[((20, 10, False), 0, 1.0)]"
            ]
          },
          "metadata": {
            "tags": []
          },
          "execution_count": 5
        }
      ]
    },
    {
      "metadata": {
        "colab_type": "text",
        "id": "S0QVo91e1cdg"
      },
      "cell_type": "markdown",
      "source": [
        "## Generate an episode - for any policy Q (epsilon-greedy policy)\n",
        "##### Input epsilon value\n",
        "##### probs() - Input is epsilon, Q and state - Output is the new action-value function for that particular state\n",
        "##### Generating an episode with a particular epsilon and a particular input policy Q"
      ]
    },
    {
      "metadata": {
        "id": "O3gzFfS-1fpk",
        "colab_type": "code",
        "outputId": "77d121d4-8681-4c93-c9b1-d547e82f2c63",
        "colab": {
          "base_uri": "https://localhost:8080/",
          "height": 34
        }
      },
      "cell_type": "code",
      "source": [
        "def probs(epsilon, Q, state): \n",
        "    maxx = np.argmax(Q[state])\n",
        "    Q[state] = [epsilon/2, epsilon/2]\n",
        "    Q[state][maxx] = 1 - epsilon + (epsilon/2)\n",
        "\n",
        "def generate_episode_fv_policy(epsilon, Q): \n",
        "    episode = []\n",
        "    state = env.reset()\n",
        "    done = 0\n",
        "    while True:\n",
        "        prob = probs(epsilon, Q, state)\n",
        "        action = np.random.choice([0, 1], p = prob)\n",
        "        next_state, reward, done, info = env.step(action)    # Take an action\n",
        "        episode.append((state, action, reward))\n",
        "        state = next_state\n",
        "        if done == 1: \n",
        "            break\n",
        "    return episode\n",
        "  \n",
        "Q = defaultdict(lambda: np.zeros(2))                         # Random policy to check if function works\n",
        "epsilon = 0.9  \n",
        "generate_episode_fv_policy(epsilon, Q)"
      ],
      "execution_count": 6,
      "outputs": [
        {
          "output_type": "execute_result",
          "data": {
            "text/plain": [
              "[((16, 10, False), 1, -1)]"
            ]
          },
          "metadata": {
            "tags": []
          },
          "execution_count": 6
        }
      ]
    },
    {
      "metadata": {
        "id": "hAbDhaP6xmpF",
        "colab_type": "text"
      },
      "cell_type": "markdown",
      "source": [
        "## Fill the Q-table"
      ]
    },
    {
      "metadata": {
        "id": "otLxmL6j-Pm2",
        "colab_type": "text"
      },
      "cell_type": "markdown",
      "source": [
        "##### First-visit prediction with equiprobable random policy"
      ]
    },
    {
      "metadata": {
        "id": "eSJFXYuMxmpG",
        "colab_type": "code",
        "outputId": "ce6bb957-cbf4-426d-b937-e8c20d923bd8",
        "colab": {
          "base_uri": "https://localhost:8080/",
          "height": 272
        }
      },
      "cell_type": "code",
      "source": [
        "# Function to evaluate policy using first-visit MC\n",
        "\n",
        "def policy_evaluation_fv_erp(number_episodes = 1): \n",
        "    Q = defaultdict(lambda: np.zeros(env.action_space.n))\n",
        "    summ = defaultdict(lambda: np.zeros(env.action_space.n))\n",
        "    N = defaultdict(lambda: np.zeros(env.action_space.n))\n",
        "    for _ in range(number_episodes): \n",
        "        states, actions, rewards = zip(*generate_episode_erp())\n",
        "        states_all = []\n",
        "        for index, state in enumerate(states): \n",
        "            if state not in states_all: \n",
        "                summ[state][actions[index]] = sum([(gamma)**i for i in range(len(rewards))][::-1][::-1]*np.asarray(rewards))\n",
        "                N[state][actions[index]] += 1\n",
        "            Q[state][actions[index]] = summ[state][actions[index]] / N[state][actions[index]]\n",
        "            states_all.append(state)\n",
        "    return Q\n",
        "                \n",
        "policy_evaluation_fv_erp(10)"
      ],
      "execution_count": 7,
      "outputs": [
        {
          "output_type": "execute_result",
          "data": {
            "text/plain": [
              "defaultdict(<function __main__.policy_evaluation_fv_erp.<locals>.<lambda>>,\n",
              "            {(7, 10, False): array([ 0. , -0.9]),\n",
              "             (8, 10, False): array([0.  , 0.81]),\n",
              "             (10, 5, False): array([0. , 0.9]),\n",
              "             (10, 10, False): array([ 0. , -0.9]),\n",
              "             (13, 10, False): array([-1.,  0.]),\n",
              "             (14, 5, False): array([0.9, 0. ]),\n",
              "             (16, 2, False): array([-1.,  0.]),\n",
              "             (16, 10, False): array([-0.9 ,  0.81]),\n",
              "             (17, 6, False): array([ 0., -1.]),\n",
              "             (17, 10, False): array([ 0.9, -0.9]),\n",
              "             (17, 10, True): array([0. , 0.9]),\n",
              "             (18, 10, False): array([0.81, 0.  ]),\n",
              "             (19, 9, False): array([1., 0.]),\n",
              "             (20, 3, False): array([ 0., -1.])})"
            ]
          },
          "metadata": {
            "tags": []
          },
          "execution_count": 7
        }
      ]
    },
    {
      "metadata": {
        "id": "SlULJ2ewxmpK",
        "colab_type": "text"
      },
      "cell_type": "markdown",
      "source": [
        "##### Every-visit prediction with equiprobable random policy"
      ]
    },
    {
      "metadata": {
        "id": "B0c1L92nxmpL",
        "colab_type": "code",
        "outputId": "062a293a-f5de-415e-aa35-ea74d9690613",
        "colab": {
          "base_uri": "https://localhost:8080/",
          "height": 204
        }
      },
      "cell_type": "code",
      "source": [
        "# Function to evaluate policy using every-visit MC\n",
        "\n",
        "def policy_evaluation_ev_erp(number_episodes = 1): \n",
        "    Q = defaultdict(lambda: np.zeros(env.action_space.n))\n",
        "    summ = defaultdict(lambda: np.zeros(env.action_space.n))\n",
        "    N = defaultdict(lambda: np.zeros(env.action_space.n))\n",
        "    for _ in range(number_episodes): \n",
        "        states, actions, rewards = zip(*generate_episode_erp())\n",
        "        for index, state in enumerate(states): \n",
        "            summ[state][actions[index]] = sum([(gamma)**i for i in range(len(rewards))][::-1][::-1]*np.asarray(rewards))\n",
        "            N[state][actions[index]] += 1\n",
        "            Q[state][actions[index]] = summ[state][actions[index]] / N[state][actions[index]]\n",
        "    return Q\n",
        "                \n",
        "policy_evaluation_ev_erp(10)"
      ],
      "execution_count": 8,
      "outputs": [
        {
          "output_type": "execute_result",
          "data": {
            "text/plain": [
              "defaultdict(<function __main__.policy_evaluation_ev_erp.<locals>.<lambda>>,\n",
              "            {(7, 7, False): array([-1.,  0.]),\n",
              "             (8, 9, False): array([-1.,  0.]),\n",
              "             (9, 10, False): array([-1.,  0.]),\n",
              "             (14, 5, False): array([-1.,  0.]),\n",
              "             (15, 9, False): array([-1.,  0.]),\n",
              "             (15, 10, False): array([-1.,  0.]),\n",
              "             (18, 9, False): array([ 0., -1.]),\n",
              "             (20, 10, False): array([ 0., -1.]),\n",
              "             (21, 8, True): array([1., 0.]),\n",
              "             (21, 10, True): array([1., 0.])})"
            ]
          },
          "metadata": {
            "tags": []
          },
          "execution_count": 8
        }
      ]
    },
    {
      "metadata": {
        "id": "vxzH5Rm6xmpO",
        "colab_type": "text"
      },
      "cell_type": "markdown",
      "source": [
        "##### First-visit prediction with 'Policy number 1'"
      ]
    },
    {
      "metadata": {
        "id": "mrFoittYxmpP",
        "colab_type": "code",
        "outputId": "a389c163-e5f2-4938-f113-ddea697971aa",
        "colab": {
          "base_uri": "https://localhost:8080/",
          "height": 204
        }
      },
      "cell_type": "code",
      "source": [
        "# Function to evaluate policy using first-visit MC\n",
        "\n",
        "def policy_evaluation_fv_18(number_episodes = 1): \n",
        "    Q = defaultdict(lambda: np.zeros(env.action_space.n))\n",
        "    summ = defaultdict(lambda: np.zeros(env.action_space.n))\n",
        "    N = defaultdict(lambda: np.zeros(env.action_space.n))\n",
        "    for _ in range(number_episodes): \n",
        "        states, actions, rewards = zip(*generate_episode_erp())\n",
        "        states_all = []\n",
        "        for index, state in enumerate(states): \n",
        "            if state not in states_all: \n",
        "                summ[state][actions[index]] = sum([(gamma)**i for i in range(len(rewards))][::-1][::-1]*np.asarray(rewards))\n",
        "                N[state][actions[index]] += 1\n",
        "            Q[state][actions[index]] = summ[state][actions[index]] / N[state][actions[index]]\n",
        "            states_all.append(state)\n",
        "    return Q\n",
        "                \n",
        "policy_evaluation_fv_18(10)"
      ],
      "execution_count": 9,
      "outputs": [
        {
          "output_type": "execute_result",
          "data": {
            "text/plain": [
              "defaultdict(<function __main__.policy_evaluation_fv_18.<locals>.<lambda>>,\n",
              "            {(9, 9, False): array([-1.,  0.]),\n",
              "             (12, 4, False): array([1., 0.]),\n",
              "             (12, 10, True): array([-1.,  0.]),\n",
              "             (13, 1, False): array([-1.,  0.]),\n",
              "             (13, 7, False): array([1., 0.]),\n",
              "             (13, 10, False): array([1., 0.]),\n",
              "             (14, 7, False): array([1., 0.]),\n",
              "             (15, 3, False): array([ 0., -1.]),\n",
              "             (15, 9, True): array([1., 0.]),\n",
              "             (19, 6, False): array([1., 0.])})"
            ]
          },
          "metadata": {
            "tags": []
          },
          "execution_count": 9
        }
      ]
    },
    {
      "metadata": {
        "id": "D_u-jy9kxmpT",
        "colab_type": "text"
      },
      "cell_type": "markdown",
      "source": [
        "##### Every-visit prediction with 'Policy number 1'"
      ]
    },
    {
      "metadata": {
        "id": "o6PuULP5xmpT",
        "colab_type": "code",
        "outputId": "a8d37455-2f5e-46ac-82ad-d7b27d0a43b8",
        "colab": {
          "base_uri": "https://localhost:8080/",
          "height": 255
        }
      },
      "cell_type": "code",
      "source": [
        "# Function to evaluate policy using every-visit MC\n",
        "\n",
        "def policy_evaluation_ev_18(number_episodes = 1): \n",
        "    Q = defaultdict(lambda: np.zeros(env.action_space.n))\n",
        "    summ = defaultdict(lambda: np.zeros(env.action_space.n))\n",
        "    N = defaultdict(lambda: np.zeros(env.action_space.n))\n",
        "    for _ in range(number_episodes): \n",
        "        states, actions, rewards = zip(*generate_episode_erp())\n",
        "        for index, state in enumerate(states): \n",
        "            summ[state][actions[index]] = sum([(gamma)**i for i in range(len(rewards))][::-1][::-1]*np.asarray(rewards))\n",
        "            N[state][actions[index]] += 1\n",
        "            Q[state][actions[index]] = summ[state][actions[index]] / N[state][actions[index]]\n",
        "    return Q\n",
        "                \n",
        "policy_evaluation_ev_18(10)"
      ],
      "execution_count": 10,
      "outputs": [
        {
          "output_type": "execute_result",
          "data": {
            "text/plain": [
              "defaultdict(<function __main__.policy_evaluation_ev_18.<locals>.<lambda>>,\n",
              "            {(8, 9, False): array([-1.,  0.]),\n",
              "             (9, 10, False): array([ 0. , -0.9]),\n",
              "             (10, 10, False): array([ 0. , -0.9]),\n",
              "             (12, 1, False): array([ 0.  , -0.81]),\n",
              "             (12, 3, True): array([-1.,  0.]),\n",
              "             (13, 9, False): array([ 0., -1.]),\n",
              "             (14, 10, False): array([-1.,  0.]),\n",
              "             (15, 10, False): array([-1.,  0.]),\n",
              "             (16, 10, False): array([-1.,  0.]),\n",
              "             (19, 1, False): array([ 0.  , -0.81]),\n",
              "             (19, 10, False): array([ 0.  , -0.45]),\n",
              "             (20, 1, False): array([ 0.  , -0.81]),\n",
              "             (21, 3, True): array([1., 0.])})"
            ]
          },
          "metadata": {
            "tags": []
          },
          "execution_count": 10
        }
      ]
    },
    {
      "metadata": {
        "id": "bDQ5YET96L6r",
        "colab_type": "text"
      },
      "cell_type": "markdown",
      "source": [
        "##### First-visit prediction for any policy - several episodes for the same policy to converge to actual action-value function"
      ]
    },
    {
      "metadata": {
        "id": "nFhUd2af6MTT",
        "colab_type": "code",
        "outputId": "304f154d-6268-46c9-c7dc-ee3ac57e885c",
        "colab": {
          "base_uri": "https://localhost:8080/",
          "height": 255
        }
      },
      "cell_type": "code",
      "source": [
        "# Function to evaluate policy using first-visit MC\n",
        "\n",
        "def policy_evaluation_fv_policy(epsilon, Q, number_episodes = 1): \n",
        "    summ = defaultdict(lambda: np.zeros(env.action_space.n))\n",
        "    N = defaultdict(lambda: np.zeros(env.action_space.n))\n",
        "    for _ in range(number_episodes): \n",
        "        states, actions, rewards = zip(*generate_episode_fv_policy(epsilon, Q))\n",
        "        states_all = []\n",
        "        for index, state in enumerate(states): \n",
        "            if state not in states_all: \n",
        "                summ[state][actions[index]] = sum([(gamma)**i for i in range(len(rewards))][::-1][::-1]*np.asarray(rewards))\n",
        "                N[state][actions[index]] += 1\n",
        "            Q[state][actions[index]] = summ[state][actions[index]] / N[state][actions[index]]\n",
        "            states_all.append(state)\n",
        "    return Q\n",
        "  \n",
        "Q = defaultdict(lambda: np.zeros(env.action_space.n))\n",
        "epsilon = 0.9  \n",
        "policy_evaluation_fv_policy(epsilon, Q, 10)"
      ],
      "execution_count": 11,
      "outputs": [
        {
          "output_type": "execute_result",
          "data": {
            "text/plain": [
              "defaultdict(<function __main__.<lambda>>,\n",
              "            {(6, 10, False): [-1.0, 0.45],\n",
              "             (8, 9, False): [1.0, 0.45],\n",
              "             (9, 4, False): [-1.0, 0.45],\n",
              "             (11, 10, False): [-1.0, 0.45],\n",
              "             (13, 6, False): [0.55, 0.9],\n",
              "             (14, 9, False): [0.55, 0.9],\n",
              "             (15, 10, False): [-1.0, 0.45],\n",
              "             (16, 6, False): [0.9, 0.45],\n",
              "             (18, 4, False): [0.55, 0.9],\n",
              "             (18, 9, False): [0.9, 0.45],\n",
              "             (19, 3, False): [-1.0, 0.45],\n",
              "             (19, 4, False): [0.9, 0.45],\n",
              "             (20, 5, False): [1.0, 0.45]})"
            ]
          },
          "metadata": {
            "tags": []
          },
          "execution_count": 11
        }
      ]
    },
    {
      "metadata": {
        "id": "SBP5vicu6MrJ",
        "colab_type": "text"
      },
      "cell_type": "markdown",
      "source": [
        "##### Every-visit prediction for any policy"
      ]
    },
    {
      "metadata": {
        "id": "G2hbLnhv6M2o",
        "colab_type": "code",
        "colab": {}
      },
      "cell_type": "code",
      "source": [
        "# Function to evaluate policy using every-visit MC\n",
        "\n",
        "def policy_evaluation_ev_policy(epsilon, number_episodes = 1): \n",
        "    Q = defaultdict(lambda: np.zeros(env.action_space.n))\n",
        "    summ = defaultdict(lambda: np.zeros(env.action_space.n))\n",
        "    N = defaultdict(lambda: np.zeros(env.action_space.n))\n",
        "    for _ in range(number_episodes): \n",
        "        states, actions, rewards = zip(*generate_episode_fv_policy(epsilon, Q))\n",
        "        for index, state in enumerate(states): \n",
        "            summ[state][actions[index]] = sum([(gamma)**i for i in range(len(rewards))][::-1][::-1]*np.asarray(rewards))\n",
        "            N[state][actions[index]] += 1\n",
        "            Q[state][actions[index]] = summ[state][actions[index]] / N[state][actions[index]]\n",
        "    return Q\n",
        "  \n",
        "epsilon = 0.9                 \n",
        "# policy_evaluation_fv_policy(epsilon, 1)"
      ],
      "execution_count": 0,
      "outputs": []
    },
    {
      "metadata": {
        "id": "kUFQmGnTxmpb",
        "colab_type": "text"
      },
      "cell_type": "markdown",
      "source": [
        "## Monte Carlo Control Method\n",
        "##### Converging to optimal policy using the epsilon-greedy policy - First-visit prediction"
      ]
    },
    {
      "metadata": {
        "id": "uufLqCGC9Ovl",
        "colab_type": "code",
        "colab": {}
      },
      "cell_type": "code",
      "source": [
        "def update_Q(episode, Q, alpha, gamma):\n",
        "    states, actions, rewards = zip(*episode)\n",
        "    for i, state in enumerate(states):\n",
        "        old_Q = Q[state][actions[i]] \n",
        "        Q[state][actions[i]] = old_Q + alpha*(sum([(gamma)**i for i in range(len(rewards))][::-1][::-1]*np.asarray(rewards)) - old_Q)\n",
        "    return Q"
      ],
      "execution_count": 0,
      "outputs": []
    },
    {
      "metadata": {
        "id": "TILfUrPRxmpd",
        "colab_type": "code",
        "colab": {}
      },
      "cell_type": "code",
      "source": [
        "def goal(alpha, epsilon, epochs): \n",
        "    Q = defaultdict(lambda: np.zeros(2))\n",
        "    for _ in range(epochs):\n",
        "        eps = max(epsilon - _*0.0001, 0.1)\n",
        "        episode = generate_episode_fv_policy(eps, Q)\n",
        "        Q = update_Q(episode, Q, alpha, gamma)\n",
        "    policy = dict((k,np.argmax(v)) for k, v in Q.items())\n",
        "    return policy, Q"
      ],
      "execution_count": 0,
      "outputs": []
    },
    {
      "metadata": {
        "id": "kS3MGOvW0hVb",
        "colab_type": "text"
      },
      "cell_type": "markdown",
      "source": [
        "## Code for plotting the output"
      ]
    },
    {
      "metadata": {
        "id": "nOcszGc_0bTI",
        "colab_type": "code",
        "colab": {}
      },
      "cell_type": "code",
      "source": [
        "import numpy as np\n",
        "from mpl_toolkits.mplot3d import Axes3D\n",
        "import matplotlib.pyplot as plt\n",
        "from mpl_toolkits.axes_grid1 import make_axes_locatable\n",
        "\n",
        "def plot_blackjack_values(V):\n",
        "\n",
        "    def get_Z(x, y, usable_ace):\n",
        "        if (x,y,usable_ace) in V:\n",
        "            return V[x,y,usable_ace]\n",
        "        else:\n",
        "            return 0\n",
        "\n",
        "    def get_figure(usable_ace, ax):\n",
        "        x_range = np.arange(11, 22)\n",
        "        y_range = np.arange(1, 11)\n",
        "        X, Y = np.meshgrid(x_range, y_range)\n",
        "        \n",
        "        Z = np.array([get_Z(x,y,usable_ace) for x,y in zip(np.ravel(X), np.ravel(Y))]).reshape(X.shape)\n",
        "\n",
        "        surf = ax.plot_surface(X, Y, Z, rstride=1, cstride=1, cmap=plt.cm.coolwarm, vmin=-1.0, vmax=1.0)\n",
        "        ax.set_xlabel('Player\\'s Current Sum')\n",
        "        ax.set_ylabel('Dealer\\'s Showing Card')\n",
        "        ax.set_zlabel('State Value')\n",
        "        ax.view_init(ax.elev, -120)\n",
        "\n",
        "    fig = plt.figure(figsize=(20, 20))\n",
        "    ax = fig.add_subplot(211, projection='3d')\n",
        "    ax.set_title('Usable Ace')\n",
        "    get_figure(True, ax)\n",
        "    ax = fig.add_subplot(212, projection='3d')\n",
        "    ax.set_title('No Usable Ace')\n",
        "    get_figure(False, ax)\n",
        "    plt.show()\n",
        "\n",
        "def plot_policy(policy):\n",
        "\n",
        "    def get_Z(x, y, usable_ace):\n",
        "        if (x,y,usable_ace) in policy:\n",
        "            return policy[x,y,usable_ace]\n",
        "        else:\n",
        "            return 1\n",
        "\n",
        "    def get_figure(usable_ace, ax):\n",
        "        x_range = np.arange(11, 22)\n",
        "        y_range = np.arange(10, 0, -1)\n",
        "        X, Y = np.meshgrid(x_range, y_range)\n",
        "        Z = np.array([[get_Z(x,y,usable_ace) for x in x_range] for y in y_range])\n",
        "        surf = ax.imshow(Z, cmap=plt.get_cmap('Pastel2', 2), vmin=0, vmax=1, extent=[10.5, 21.5, 0.5, 10.5])\n",
        "        plt.xticks(x_range)\n",
        "        plt.yticks(y_range)\n",
        "        plt.gca().invert_yaxis()\n",
        "        ax.set_xlabel('Player\\'s Current Sum')\n",
        "        ax.set_ylabel('Dealer\\'s Showing Card')\n",
        "        ax.grid(color='w', linestyle='-', linewidth=1)\n",
        "        divider = make_axes_locatable(ax)\n",
        "        cax = divider.append_axes(\"right\", size=\"5%\", pad=0.1)\n",
        "        cbar = plt.colorbar(surf, ticks=[0,1], cax=cax)\n",
        "        cbar.ax.set_yticklabels(['0 (STICK)','1 (HIT)'])\n",
        "            \n",
        "    fig = plt.figure(figsize=(15, 15))\n",
        "    ax = fig.add_subplot(121)\n",
        "    ax.set_title('Usable Ace')\n",
        "    get_figure(True, ax)\n",
        "    ax = fig.add_subplot(122)\n",
        "    ax.set_title('No Usable Ace')\n",
        "    get_figure(False, ax)\n",
        "    plt.show()"
      ],
      "execution_count": 0,
      "outputs": []
    },
    {
      "metadata": {
        "id": "2ZlHQYmC_wIl",
        "colab_type": "text"
      },
      "cell_type": "markdown",
      "source": [
        "## Plotting the Output"
      ]
    },
    {
      "metadata": {
        "id": "zptBqyBzxmph",
        "colab_type": "code",
        "colab": {}
      },
      "cell_type": "code",
      "source": [
        "policy, Q = goal(0.31, 0.9, 500000)"
      ],
      "execution_count": 0,
      "outputs": []
    },
    {
      "metadata": {
        "id": "BzVgFXnTM_NF",
        "colab_type": "code",
        "colab": {
          "base_uri": "https://localhost:8080/",
          "height": 400
        },
        "outputId": "11ad7abc-ab0e-4059-87da-8b9a3bfba549"
      },
      "cell_type": "code",
      "source": [
        "plot_policy(policy)"
      ],
      "execution_count": 34,
      "outputs": [
        {
          "output_type": "display_data",
          "data": {
            "image/png": "[encoded data removed]",
            "text/plain": [
              "<Figure size 1080x1080 with 4 Axes>"
            ]
          },
          "metadata": {
            "tags": []
          }
        }
      ]
    }
  ]
}